{
 "cells": [
  {
   "cell_type": "markdown",
   "id": "d2ea748b",
   "metadata": {},
   "source": [
    "FIREBASE ACCOUNT USED:\n",
    "\n",
    "email: capstonepusa101@gmail.com \n",
    "\n",
    "\n",
    "password: umangprakharsuryansh\n",
    "\n",
    "\n",
    "ACCOUNT IN DJANGO IS:\n",
    "\n",
    "USERNAME: suryansh\n",
    "password: umangprakharsuryansh"
   ]
  },
  {
   "cell_type": "code",
   "execution_count": 1,
   "id": "fd069155",
   "metadata": {},
   "outputs": [],
   "source": [
    "from firebase import firebase\n",
    "import numpy as np\n",
    "import time\n",
    "from datetime import datetime\n",
    "\n",
    "\n",
    "firebase = firebase.FirebaseApplication('https://capstone-7efdb-default-rtdb.firebaseio.com/', None)"
   ]
  },
  {
   "cell_type": "markdown",
   "id": "b166002c",
   "metadata": {},
   "source": [
    "# Interuppt the kernel to stop it running "
   ]
  },
  {
   "cell_type": "code",
   "execution_count": 2,
   "id": "fa20cef4",
   "metadata": {},
   "outputs": [
    {
     "ename": "KeyboardInterrupt",
     "evalue": "",
     "output_type": "error",
     "traceback": [
      "\u001b[1;31m---------------------------------------------------------------------------\u001b[0m",
      "\u001b[1;31mKeyboardInterrupt\u001b[0m                         Traceback (most recent call last)",
      "\u001b[1;32m<ipython-input-2-b36f7e850940>\u001b[0m in \u001b[0;36m<module>\u001b[1;34m\u001b[0m\n\u001b[0;32m      3\u001b[0m \u001b[1;33m\u001b[0m\u001b[0m\n\u001b[0;32m      4\u001b[0m \u001b[1;32mwhile\u001b[0m \u001b[1;32mTrue\u001b[0m\u001b[1;33m:\u001b[0m\u001b[1;33m\u001b[0m\u001b[1;33m\u001b[0m\u001b[0m\n\u001b[1;32m----> 5\u001b[1;33m     \u001b[0mtime\u001b[0m\u001b[1;33m.\u001b[0m\u001b[0msleep\u001b[0m\u001b[1;33m(\u001b[0m\u001b[1;36m5\u001b[0m\u001b[1;33m)\u001b[0m\u001b[1;33m\u001b[0m\u001b[1;33m\u001b[0m\u001b[0m\n\u001b[0m\u001b[0;32m      6\u001b[0m     \u001b[0mdata\u001b[0m\u001b[1;33m=\u001b[0m\u001b[0mnp\u001b[0m\u001b[1;33m.\u001b[0m\u001b[0mrandom\u001b[0m\u001b[1;33m.\u001b[0m\u001b[0muniform\u001b[0m\u001b[1;33m(\u001b[0m\u001b[1;33m-\u001b[0m\u001b[1;36m20\u001b[0m\u001b[1;33m,\u001b[0m \u001b[1;36m100\u001b[0m\u001b[1;33m,\u001b[0m \u001b[1;36m4\u001b[0m\u001b[1;33m)\u001b[0m\u001b[1;33m\u001b[0m\u001b[1;33m\u001b[0m\u001b[0m\n\u001b[0;32m      7\u001b[0m     \u001b[1;32mfor\u001b[0m \u001b[0mindex\u001b[0m\u001b[1;33m,\u001b[0m\u001b[0mi\u001b[0m \u001b[1;32min\u001b[0m \u001b[0menumerate\u001b[0m\u001b[1;33m(\u001b[0m\u001b[0mdata\u001b[0m\u001b[1;33m)\u001b[0m\u001b[1;33m:\u001b[0m\u001b[1;33m\u001b[0m\u001b[1;33m\u001b[0m\u001b[0m\n",
      "\u001b[1;31mKeyboardInterrupt\u001b[0m: "
     ]
    }
   ],
   "source": [
    "# Change this when needed. This is also the username you need to use when signing up/ logging in\n",
    "username= 'suryansh'\n",
    "\n",
    "while True:\n",
    "    time.sleep(5)\n",
    "    data=np.random.uniform(-20, 100, 4)\n",
    "    for index,i in enumerate(data):\n",
    "        if i<0:\n",
    "            data[index]=0\n",
    "    now = datetime.now()\n",
    "\n",
    "    ctime = now.strftime(\"%H:%M:%S\")\n",
    "    data = {\n",
    "        'sensor1': data[0],\n",
    "        'sensor2': data[1],\n",
    "        'sensor3': data[2],\n",
    "        'sensor4': data[3],\n",
    "        'time': ctime,\n",
    "    }\n",
    "    result = firebase.post(f'/{username}/',data)\n",
    "    "
   ]
  }
 ],
 "metadata": {
  "kernelspec": {
   "display_name": "Python 3",
   "language": "python",
   "name": "python3"
  },
  "language_info": {
   "codemirror_mode": {
    "name": "ipython",
    "version": 3
   },
   "file_extension": ".py",
   "mimetype": "text/x-python",
   "name": "python",
   "nbconvert_exporter": "python",
   "pygments_lexer": "ipython3",
   "version": "3.8.3"
  }
 },
 "nbformat": 4,
 "nbformat_minor": 5
}
